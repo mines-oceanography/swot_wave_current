{
 "cells": [
  {
   "cell_type": "markdown",
   "id": "1d11e954-a6ee-405d-9d69-0fcb4372e3ed",
   "metadata": {
    "editable": true,
    "slideshow": {
     "slide_type": ""
    },
    "tags": []
   },
   "source": [
    "# Supplementary Material (Villas Bôas et al. 2024)\n",
    "### Highlight the SST feedback on the Wind Speed from Satellite observations"
   ]
  },
  {
   "cell_type": "code",
   "execution_count": 2,
   "id": "e151a954-c2a9-4aab-abbd-fe3d8d2601c9",
   "metadata": {
    "editable": true,
    "slideshow": {
     "slide_type": ""
    },
    "tags": []
   },
   "outputs": [],
   "source": [
    "import warnings\n",
    "warnings.filterwarnings('ignore')\n",
    "import numpy as np\n",
    "import matplotlib.pyplot as plt\n",
    "import xarray as xr\n",
    "\n",
    "import glob\n",
    "from scipy.interpolate import griddata\n",
    "\n",
    "import cartopy.crs as ccrs\n",
    "import cartopy.feature as cfeature\n",
    "import cartopy\n"
   ]
  },
  {
   "cell_type": "code",
   "execution_count": 3,
   "id": "ece39329-b171-4650-a83d-77fd2a8e1413",
   "metadata": {
    "editable": true,
    "slideshow": {
     "slide_type": ""
    },
    "tags": []
   },
   "outputs": [],
   "source": [
    "path_out = '../figures/'\n",
    "file_out_anom = 'SI_figure_SST_WindSpeed_anom.png'"
   ]
  },
  {
   "cell_type": "code",
   "execution_count": 4,
   "id": "833faf28-7629-43fa-b193-d0f9655a8c7d",
   "metadata": {
    "editable": true,
    "slideshow": {
     "slide_type": ""
    },
    "tags": []
   },
   "outputs": [],
   "source": [
    "lon_min, lon_max, lat_min, lat_max = -80+360, -70.5+360, 31.5, 40"
   ]
  },
  {
   "cell_type": "code",
   "execution_count": 5,
   "id": "c88a7cf2-e4af-447e-8349-ca14ec2c926f",
   "metadata": {
    "editable": true,
    "slideshow": {
     "slide_type": ""
    },
    "tags": []
   },
   "outputs": [],
   "source": [
    "ds_sst = xr.open_dataset('/Users/gwen29360/Desktop/POSTDOC/Mines/SWOT/DATA/data_4_paper/SST_WIND_anomaly/sept_sst_anom.nc')\n",
    "ds_windspeed = xr.open_dataset('/Users/gwen29360/Desktop/POSTDOC/Mines/SWOT/DATA/data_4_paper/SST_WIND_anomaly/sept_windspeed_anom.nc')\n",
    "ds_sst = ds_sst.mean(dim = 'observations')\n",
    "ds_windspeed = ds_windspeed.mean(dim = 'observations')"
   ]
  },
  {
   "cell_type": "code",
   "execution_count": null,
   "id": "2c9a6ee5-9370-48c8-bf13-dde200bc57f4",
   "metadata": {
    "editable": true,
    "slideshow": {
     "slide_type": ""
    },
    "tags": []
   },
   "outputs": [],
   "source": [
    "\n",
    "fig = plt.figure(figsize = (10, 5))\n",
    "\n",
    "ax = fig.add_subplot(1, 2, 1, projection=ccrs.PlateCarree())\n",
    "ax.set_extent([lon_min, lon_max, lat_min, lat_max], crs=ccrs.PlateCarree())\n",
    "\n",
    "gl = ax.gridlines(crs=ccrs.PlateCarree(), draw_labels=True,\n",
    "                  linewidth=2, color='gray', alpha=0.0, linestyle='--', zorder=1)\n",
    "\n",
    "gl.right_labels = False\n",
    "gl.left_labels = True\n",
    "gl.bottom_labels =True\n",
    "gl.top_labels =False\n",
    "\n",
    "ax.add_feature(cfeature.LAND,zorder=2,color='blanchedalmond')\n",
    "ax.add_feature(cfeature.COASTLINE, zorder = 4)\n",
    "\n",
    "\n",
    "p1 = ax.pcolormesh(ds_sst.longitude, ds_sst.latitude, ds_sst.sst_anomaly, vmin = -6, vmax = 6, cmap = 'RdBu_r')\n",
    "plt.title('September 2023: Sentinel')\n",
    "cax = fig.add_axes([.13, .05, 0.35, 0.02])\n",
    "\n",
    "cbar = plt.colorbar(p1, cax = cax, orientation = 'horizontal', ticks = [-6, -3, 0, 3, 6], extend = 'both')\n",
    "cbar.ax.set_xlabel('SST Anomaly [deg]')\n",
    "\n",
    "ax = fig.add_subplot(1, 2, 2, projection=ccrs.PlateCarree())\n",
    "ax.set_extent([lon_min, lon_max, lat_min, lat_max], crs=ccrs.PlateCarree())\n",
    "\n",
    "gl = ax.gridlines(crs=ccrs.PlateCarree(), draw_labels=True,\n",
    "                  linewidth=2, color='gray', alpha=0.0, linestyle='--', zorder=1)\n",
    "\n",
    "gl.right_labels =False\n",
    "gl.left_labels = False\n",
    "gl.bottom_labels =True\n",
    "gl.top_labels =False\n",
    "\n",
    "ax.add_feature(cfeature.LAND,zorder=2,color='blanchedalmond')\n",
    "ax.add_feature(cfeature.COASTLINE, zorder = 4)\n",
    "\n",
    "p2 = ax.pcolormesh(ds_windspeed.longitude, ds_windspeed.latitude, ds_windspeed.wind_anomaly, vmin = -1.4, vmax = 1.4, cmap = 'PuOr_r')\n",
    "plt.title('September 2023: ASCAT')\n",
    "cax = fig.add_axes([.54, .05, 0.35, 0.02])\n",
    "cbar = plt.colorbar(p2, cax = cax, orientation = 'horizontal', ticks = [-1.4, -.7, 0, .7, 1.4], extend =  'both')\n",
    "cbar.ax.set_xlabel('Wind Speed Anomaly [m/s]')\n",
    "plt.subplots_adjust(wspace= .06)\n",
    "\n",
    "plt.savefig(path_out + file_out_anom, dpi = 300, bbox_inches = 'tight')\n"
   ]
  },
  {
   "cell_type": "code",
   "execution_count": null,
   "id": "7fe1b2b7-c06b-4c3a-a600-c99e0c645694",
   "metadata": {
    "editable": true,
    "slideshow": {
     "slide_type": ""
    },
    "tags": []
   },
   "outputs": [],
   "source": []
  },
  {
   "cell_type": "code",
   "execution_count": null,
   "id": "0d9b17b3-701b-47e9-ba66-64dd12ee36fa",
   "metadata": {
    "editable": true,
    "slideshow": {
     "slide_type": ""
    },
    "tags": []
   },
   "outputs": [],
   "source": []
  }
 ],
 "metadata": {
  "kernelspec": {
   "display_name": "Python 3 (ipykernel)",
   "language": "python",
   "name": "python3"
  },
  "language_info": {
   "codemirror_mode": {
    "name": "ipython",
    "version": 3
   },
   "file_extension": ".py",
   "mimetype": "text/x-python",
   "name": "python",
   "nbconvert_exporter": "python",
   "pygments_lexer": "ipython3",
   "version": "3.12.4"
  }
 },
 "nbformat": 4,
 "nbformat_minor": 5
}
